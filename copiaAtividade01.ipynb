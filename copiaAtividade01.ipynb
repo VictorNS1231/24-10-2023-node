{
  "nbformat": 4,
  "nbformat_minor": 0,
  "metadata": {
    "colab": {
      "provenance": [],
      "authorship_tag": "ABX9TyOmW9trs/r1M67iE9MCn25l",
      "include_colab_link": true
    },
    "kernelspec": {
      "name": "python3",
      "display_name": "Python 3"
    },
    "language_info": {
      "name": "python"
    }
  },
  "cells": [
    {
      "cell_type": "markdown",
      "metadata": {
        "id": "view-in-github",
        "colab_type": "text"
      },
      "source": [
        "<a href=\"https://colab.research.google.com/github/VictorNS1231/24-10-2023-node/blob/main/copiaAtividade01.ipynb\" target=\"_parent\"><img src=\"https://colab.research.google.com/assets/colab-badge.svg\" alt=\"Open In Colab\"/></a>"
      ]
    },
    {
      "cell_type": "markdown",
      "source": [
        "Atividade T11 01\n",
        "\n",
        "Copiar e treinar programação\n",
        "\n",
        "EX01: Total a pagar"
      ],
      "metadata": {
        "id": "jwYMHrnFmZ3X"
      }
    },
    {
      "cell_type": "code",
      "source": [
        "nome = str(input('Digite o nome do produto: ')) #entrada de string para inserir e detectar caracteres\n",
        "quantidade = int(input('Digite a quantidade de produto: ')) #entrada de número inteiros para inserir e detectar numero sem vírgulas\n",
        "if quantidade <= 0: # condição de quantidade menor igual a zero\n",
        "  print(f'Quantidade do produto {nome} não suportada') #f para inserir entradas do dado nome e já que não tem quantidade, não pode ser regitrado o produto\n",
        "\n",
        "valor = float(input('Digite o valor do produto: ')) #float = decimal\n",
        "if valor <= 0: # Se não ter valor, não tem como precificar os produtos\n",
        "    print(f'Quantidade de valor não suportada ')\n",
        "print(f'\\n O nome do produto é: {nome}') # \\n pular \"a linha\" e se não mostra o nome do produto\n",
        "\n",
        "valor_bruto = valor * quantidade # valor total a ser pago\n",
        "print(f'O valor bruto do produto {nome} é de: {valor_bruto:.2f} ') # 2f = duas casas antes do numero inteiro\n",
        "\n",
        "if 0 < quantidade <= 5: # se a quantidade é maior que 0 e menor igual a 5, o valor bruto tem desconte de 2%\n",
        "  total = valor_bruto * 0.98\n",
        "  print(f'O produto {nome} possui 2% de desconto')\n",
        "  print(f'O valor a pagar será de: {total:.2f}')\n",
        "elif 5 < quantidade <= 10:\n",
        "  total = valor_bruto\n",
        "  print(f'O produto {nome} possui 3% de desconto')\n",
        "  print(f'O valor a pagar será de:{total:.2f}')\n",
        "elif quantidade > 10:\n",
        "  total = valor_bruto * 0.95\n",
        "  print(f'O produto {nome} possui 5% de desconto')\n",
        "  print(f'O valor a pagar será de:{total:.2f}')\n",
        "\n",
        "# Tab conta para o interpretador dar erros no if, tomar cuidado\n",
        "# espaços não contam"
      ],
      "metadata": {
        "id": "jRDKINI0mbyi",
        "colab": {
          "base_uri": "https://localhost:8080/"
        },
        "outputId": "341c8d40-8461-4835-f498-a35e780f441a"
      },
      "execution_count": null,
      "outputs": [
        {
          "output_type": "stream",
          "name": "stdout",
          "text": [
            "Digite o nome do produto: maça\n",
            "Digite a quantidade de produto: 50\n",
            "Digite o valor do produto: 5\n",
            "\n",
            " O nome do produto é: maça\n",
            "O valor bruto do produto maça é de: 250.00 \n",
            "O produto maça possui 5% de desconto\n",
            "O valor a pagar será de:237.50\n"
          ]
        }
      ]
    },
    {
      "cell_type": "markdown",
      "source": [
        "Atividade EX02 - Folha de pagamento"
      ],
      "metadata": {
        "id": "BXUdeEQVU3No"
      }
    },
    {
      "cell_type": "code",
      "execution_count": null,
      "metadata": {
        "id": "0qkVZbCZmXtD",
        "colab": {
          "base_uri": "https://localhost:8080/"
        },
        "outputId": "7c27a115-8e37-4f05-c8ef-06de188e91d5"
      },
      "outputs": [
        {
          "output_type": "stream",
          "name": "stdout",
          "text": [
            "Informe seu Salário Bruto: 5000\n",
            "Salario Bruto: 5000.0\n",
            "      INSS: 526.19\n",
            "      IR: 370.48\n",
            "      FGTS: 550.0\n",
            "      Total de Descontos: 896.67\n",
            "      Salario Líquido: 4103.33 + 550.0 depositado pela empresa\n"
          ]
        }
      ],
      "source": [
        "salario_bruto = float(input('Informe seu Salário Bruto: ')) #float = decimal\n",
        "FGTS = salario_bruto * 0.11 #FGTS = 89% do salário bruto\n",
        "if salario_bruto <= 1302.00:\n",
        "  INSS = salario_bruto * 0.075 #INSS = 7,5% do salário bruto\n",
        "elif 1302.01 <= salario_bruto <= 2571.29:\n",
        "  INSS = (1302.00 * 0.075) + ((salario_bruto - 1302.01) * 0.09)\n",
        "elif 2571.29 < salario_bruto <= 3856.94:\n",
        "  INSS = (1302.00 * 0.075) + ((2571.29 - 1302.01) * 0.09) + ((salario_bruto - 2571.30) * 0.12)\n",
        "elif 3856.94 < salario_bruto <= 7507.49:\n",
        "  INSS = (1302.00 * 0.075) + ((2571.29 - 1302.01) * 0.09) + ((3856.94 - 2571.30) * 0.12) + ((salario_bruto - 3856.95) * 0.14)\n",
        "\n",
        "salario_descontado = salario_bruto - INSS\n",
        "\n",
        "if salario_descontado <= 1903.98:\n",
        "  IR = (salario_bruto - (INSS))\n",
        "if 1903.98 < salario_descontado <= 2826.65:\n",
        "  IR = (salario_bruto - (INSS)) * 0.075 - 142.80\n",
        "if 2826.65 < salario_descontado <= 3751.05:\n",
        "  IR = (salario_bruto - (INSS)) * 0.15 - 354.80\n",
        "if 3751.05 < salario_descontado <= 4664.68:\n",
        "  IR = (salario_bruto - (INSS)) * 0.225 - 636.13\n",
        "if 4664.68 < salario_descontado:\n",
        "  IR = (salario_bruto - (INSS)) * 0.275 - 869.36\n",
        "\n",
        "total_descontos = INSS + IR\n",
        "\n",
        "print(f'''Salario Bruto: {salario_bruto}\n",
        "      INSS: {INSS:.2f}\n",
        "      IR: {IR:.2f}\n",
        "      FGTS: {FGTS}\n",
        "      Total de Descontos: {total_descontos:.2f}\n",
        "      Salario Líquido: {(salario_bruto -total_descontos):.2f} + {FGTS} depositado pela empresa''')\n"
      ]
    }
  ]
}